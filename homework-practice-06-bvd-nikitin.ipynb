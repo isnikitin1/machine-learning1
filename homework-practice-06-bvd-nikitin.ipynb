{
 "cells": [
  {
   "cell_type": "markdown",
   "metadata": {},
   "source": [
    "# Машинное обучение, ФКН ВШЭ\n",
    "\n",
    "## Практическое задание 6. Разложение ошибки на смещение и разброс\n",
    "\n",
    "### Общая информация\n",
    "\n",
    "Дата выдачи: 24.11.2021\n",
    "\n",
    "Мягкий дедлайн: 23:59MSK 07.12.2021\n",
    "\n",
    "\n",
    "Жесткий дедлайн: 23:59MSK 10.12.2021\n",
    "\n",
    "### Оценивание и штрафы\n",
    "Каждая из задач имеет определенную «стоимость» (указана в скобках около задачи). Максимально допустимая оценка за работу — 10 баллов.\n",
    "\n",
    "Сдавать задание после указанного срока сдачи нельзя. При выставлении неполного балла за задание в связи с наличием ошибок на усмотрение проверяющего предусмотрена возможность исправить работу на указанных в ответном письме условиях.\n",
    "\n",
    "Задание выполняется самостоятельно. «Похожие» решения считаются плагиатом и все задействованные студенты (в том числе те, у кого списали) не могут получить за него больше 0 баллов (подробнее о плагиате см. на странице курса). Если вы нашли решение какого-то из заданий (или его часть) в открытом источнике, необходимо указать ссылку на этот источник в отдельном блоке в конце вашей работы (скорее всего вы будете не единственным, кто это нашел, поэтому чтобы исключить подозрение в плагиате, необходима ссылка на источник).\n",
    "\n",
    "Неэффективная реализация кода может негативно отразиться на оценке.\n",
    "\n",
    "### Формат сдачи\n",
    "Задания сдаются через систему anytask. Посылка должна содержать:\n",
    "* Ноутбук homework-practice-06-Username.ipynb\n",
    "\n",
    "Username — ваша фамилия и имя на латинице именно в таком порядке\n",
    "\n",
    "### О задании\n",
    "\n",
    "В этом задании вам предстоит воспользоваться возможностями бутстрапа для оценки смещения и разброса алгоритмов машинного обучения. Делать мы это будем на данных boston:"
   ]
  },
  {
   "cell_type": "code",
   "execution_count": 1,
   "metadata": {
    "ExecuteTime": {
     "end_time": "2021-12-09T16:47:17.170556Z",
     "start_time": "2021-12-09T16:47:16.006374Z"
    }
   },
   "outputs": [],
   "source": [
    "import numpy as np\n",
    "import pandas as pd\n",
    "from matplotlib import pyplot as plt"
   ]
  },
  {
   "cell_type": "code",
   "execution_count": 2,
   "metadata": {
    "ExecuteTime": {
     "end_time": "2021-12-09T16:47:18.259365Z",
     "start_time": "2021-12-09T16:47:17.172133Z"
    }
   },
   "outputs": [],
   "source": [
    "from sklearn.datasets import load_boston"
   ]
  },
  {
   "cell_type": "code",
   "execution_count": 3,
   "metadata": {
    "ExecuteTime": {
     "end_time": "2021-12-09T16:47:18.289640Z",
     "start_time": "2021-12-09T16:47:18.265705Z"
    }
   },
   "outputs": [],
   "source": [
    "boston = load_boston()"
   ]
  },
  {
   "cell_type": "code",
   "execution_count": 4,
   "metadata": {
    "ExecuteTime": {
     "end_time": "2021-12-09T16:47:18.304568Z",
     "start_time": "2021-12-09T16:47:18.290637Z"
    }
   },
   "outputs": [],
   "source": [
    "X = boston[\"data\"]\n",
    "y = boston[\"target\"]"
   ]
  },
  {
   "cell_type": "code",
   "execution_count": 5,
   "metadata": {
    "ExecuteTime": {
     "end_time": "2021-12-09T16:47:18.320076Z",
     "start_time": "2021-12-09T16:47:18.306564Z"
    }
   },
   "outputs": [
    {
     "data": {
      "text/plain": [
       "((506, 13), (506,))"
      ]
     },
     "execution_count": 5,
     "metadata": {},
     "output_type": "execute_result"
    }
   ],
   "source": [
    "X.shape, y.shape"
   ]
  },
  {
   "cell_type": "markdown",
   "metadata": {},
   "source": [
    "### Вычисление bias и variance с помощью бутстрапа\n",
    "На лекции была выведено следующая формула, показывающая, как можно представить ошибку алгоритма регрессии в виде суммы трех компонент:\n",
    "$$\n",
    "L(\\mu) = \n",
    "    \\mathbb{E}_{x, y}\\bigl[\\mathbb{E}_{X}\\bigl[ (y - \\mu(X)(x))^2 \\bigr]\\bigr] = \n",
    "$$\n",
    "$$\n",
    "    \\underbrace{\\mathbb{E}_{x, y}\\bigl[(y - \\mathbb{E}[y|x] )^2\\bigr]}_{\\text{шум}} + \\underbrace{\\mathbb{E}_{x}\\bigl[(\\mathbb{E}_{X}[\\mu(X)(x)] - \\mathbb{E}[y|x] )^2\\bigr]}_{\\text{смещение}} +\n",
    "    \\underbrace{\\mathbb{E}_{x}\\bigl[\\mathbb{E}_{X}\\bigl[(\\mu(X)(x) - \\mathbb{E}_{X}[\\mu(X)(x)] )^2\\bigr]\\bigr]}_{\\text{разброс}},\n",
    "$$\n",
    "* $\\mu(X)$ — алгоритм, обученный по выборке $X = \\{(x_1, y_1), \\dots (x_\\ell, y_\\ell)\\}$;\n",
    "* $\\mu(X)(x)$ — ответ алгоритма, обученного по выборке $X$, на объекте $x$;\n",
    "* $\\mathbb{E}_{X}$ — мат. ожидание по всем возможным выборкам;\n",
    "* $\\mathbb{E}_{X}[\\mu(X)(x)]$ — \"средний\" ответ алгоритма, обученного по всем возможным выборкам $X$, на объекте $x$.\n",
    "    \n",
    "С помощью этой формулы мы можем анализировать свойства алгоритма обучения модели $\\mu$, если зададим вероятностную модель порождения пар $p(x, y)$.\n",
    "\n",
    "В реальных задачах мы, конечно же, не знаем распределение на парах объект - правильный ответ. Однако у нас есть набор семплов из этого распределения (обучающую выборка), и мы можем использовать его, чтобы оценивать математические ожидания. Для оценки мат. ожиданий по выборкам мы будем пользоваться бутстрэпом - методом генерации \"новых\" выборок из одной с помощью выбора объектов с возвращением. Разберем несколько шагов на пути к оценке смещения и разброса.\n",
    "\n",
    "#### Приближенное вычисление интегралов\n",
    "На занятиях мы разбирали примеры аналитического вычисления смещения и разброса нескольких алгоритмов обучения. Для большинства моделей данных и алгоритмов обучения аналитически рассчитать математические ожидания в формулах не удастся. Однако мат. ожидания можно оценивать приближенно. Чтобы оценить математическое ожидание $\\mathbb{E}_{\\bar z} f(\\bar z)$ функции от многомерной случайной величины $\\bar z = (z_1, \\dots, z_d)$, $\\bar z \\sim p(\\bar z)$, можно сгенерировать выборку из распределения $p(\\bar z)$ и усреднить значение функции на элементах этой выборки:\n",
    "$$\\mathbb{E}_{\\bar z} f(z) = \\int f(\\bar z) p(\\bar z) d \\bar z \\approx \\frac 1 m \\sum_{i=1}^m f(\\bar z_i), \\, \\bar z_i \\sim p(\\bar z), i = 1, \\dots, m.$$\n",
    "\n",
    "Например, оценим $\\mathbb{E}_z z^2,$ $z \\sim \\mathcal{N}(\\mu=5, \\sigma=3)$ (из теории вероятностей мы знаем, что\n",
    "$\\mathbb{E}_z z^2 = \\sigma^2 + \\mu^2 = 34$):"
   ]
  },
  {
   "cell_type": "code",
   "execution_count": 6,
   "metadata": {
    "ExecuteTime": {
     "end_time": "2021-12-09T16:47:18.335515Z",
     "start_time": "2021-12-09T16:47:18.322030Z"
    }
   },
   "outputs": [
    {
     "data": {
      "text/plain": [
       "34.82671936027573"
      ]
     },
     "execution_count": 6,
     "metadata": {},
     "output_type": "execute_result"
    }
   ],
   "source": [
    "z = np.random.normal(loc=5, scale=3, size=1000)\n",
    "(z**2).mean()"
   ]
  },
  {
   "cell_type": "markdown",
   "metadata": {},
   "source": [
    "#### Оценивание $\\mathbb{E}_{x, y}$\n",
    "Оценить мат. ожидания по $x$ и по $x, y$, встречающиеся во всех трех компонентах разложения, несложно, потому что у нас есть выборка объектов из распределения данных $p(x, y)$:\n",
    "$$ \\mathbb{E}_{x} f(x) \\approx \\frac 1 N \\sum_{i=1}^N f(x_i), \\quad\n",
    "\\mathbb{E}_{x, y} f(x, y) \\approx \\frac 1 N \\sum_{i=1}^N f(x_i, y_i),$$\n",
    "где $N$ - число объектов в выборке, $\\{(x_i, y_i)\\}_{i=1}^N$ - сама выборка. \n",
    "\n",
    "#### Оценивание $\\mathbb{E}_X$ с помощью бутстрапа\n",
    "Чтобы оценить мат. ожидание по $X$, нам понадобится выборка из выборок:\n",
    "$$\\mathbb{E}_X f(X) \\approx \\frac 1 s \\sum_{j=1}^s f(X_j),$$\n",
    "где $X_j$ - $j$-я выборка. Чтобы их получить, мы можем воспользоваться бутстрапом - методом генерации выборок на основе выбора объектов с возвращением. Чтобы составить одну выборку, будем $N$ раз выбирать индекс объекта $i \\sim \\text{Uniform}(1 \\dots N)$ и добавлять $i$-ю пару (объект, целевая переменная) в выборку. В результате в каждой выборке могут появиться повторяющиеся объекты, а какие-то объекты могут вовсе не войти в некоторые выборки.\n",
    "\n",
    "#### Итоговый алгоритм оценки смещения и разброса алгоритма $a$\n",
    "1. Сгенерировать $s$ выборок $X_j$ методом бутстрапа.\n",
    "1. На каждой выборке $X_j$ обучить алгоритм $a_j$.\n",
    "1. Для каждой выборки $X_j$ определить множество объектов $T_j$, не вошедших в нее (out-of-bag). Вычислить предсказания алгоритма $a_j$ на объектах $T_j$. \n",
    "\n",
    "Поскольку у нас есть только один ответ для каждого объекта, мы будем считать шум равным 0, а $\\mathbb{E}[y|x]$ равным имеющемуся правильному ответу для объекта $x$. \n",
    "\n",
    "Итоговые оценки:\n",
    "* Смещение: для одного объекта - квадрат разности среднего предсказания и правильного ответа. Среднее предсказание берется только по тем алгоритмам $a_j$, для которых этот объект входил в out-of-bag выборку $T_j$. Для получения общего смещения выполнить усреденение смещений по объектам.\n",
    "* Разброс: для одного объекта - выборочная дисперсия предсказаний алгоритмов $a_j$, для которых этот объект входил в out-of-bag выборку $T_j$. Для получения общего разброса выполнить усреденение разбросов по объектам.\n",
    "* Ошибка $L$: усреднить квадраты разностей предсказания и правильного ответа по всем выполненным предсказаниям для всех объектов.\n",
    "\n",
    "В результате должно получиться, что ошибка приблизительно равна сумме смещения и разброса!\n",
    "\n",
    "Алгоритм также вкратце описан по [ссылке](https://web.engr.oregonstate.edu/~tgd/classes/534/slides/part9.pdf) (слайды 19-21).\n",
    "\n",
    "__1. (3 балла)__\n",
    "\n",
    "Реализуйте описанный алгоритм. Обратите внимание, что если объект не вошел ни в одну из out-of-bag выборок, учитывать его в вычислении итоговых величин не нужно. Как обычно, разрешается использовать только один цикл - по выборкам (от 0 до num_runs-1)."
   ]
  },
  {
   "cell_type": "code",
   "execution_count": 7,
   "metadata": {
    "ExecuteTime": {
     "end_time": "2021-12-09T16:47:18.366732Z",
     "start_time": "2021-12-09T16:47:18.338506Z"
    }
   },
   "outputs": [],
   "source": [
    "from tqdm import tqdm\n",
    "import copy"
   ]
  },
  {
   "cell_type": "code",
   "execution_count": 8,
   "metadata": {
    "ExecuteTime": {
     "end_time": "2021-12-09T16:47:18.382538Z",
     "start_time": "2021-12-09T16:47:18.368699Z"
    }
   },
   "outputs": [],
   "source": [
    "def compute_biase_variance(regressor, X, y, num_runs=1000):\n",
    "    \"\"\"\n",
    "    :param regressor: sklearn estimator with fit(...) and predict(...) method\n",
    "    :param X: numpy-array representing training set ob objects, shape [n_obj, n_feat]\n",
    "    :param y: numpy-array representing target for training objects, shape [n_obj]\n",
    "    :param num_runs: int, number of samples (s in the description of the algorithm)\n",
    "    \n",
    "    :returns: bias (float), variance (float), error (float) \n",
    "    each value is computed using bootstrap\n",
    "    \"\"\"\n",
    "    indexes = np.arange(X.shape[0])\n",
    "    pred = np.zeros((X.shape[0], num_runs))\n",
    "    ind = copy.deepcopy(pred)\n",
    "    for run in tqdm(range(num_runs)):\n",
    "        ind_cur = np.random.choice(X.shape[0], X.shape[0])\n",
    "        oob = np.setdiff1d(indexes, ind_cur)\n",
    "        model = regressor.fit(X[ind_cur], y[ind_cur])\n",
    "        pred[oob, run] = model.predict(X[oob])\n",
    "        ind[oob, run] = 1\n",
    "    length = X.shape[0] - np.sum((np.sum(ind, axis = 1) == 0))\n",
    "    n_oob = (np.sum(ind[:,:] != 0, axis = 1) * np.ones(pred.shape).T).T\n",
    "    \n",
    "    bias_X = np.sum(pred / n_oob, axis = 1) - y\n",
    "    bias = np.sum(np.power(bias_X, 2) / length, axis = 0)\n",
    "    \n",
    "    variance_X = pred - (np.sum(pred / n_oob, axis = 1) * (ind == 1).T).T\n",
    "    variance = np.sum(np.sum(np.power(variance_X, 2) / n_oob, axis = 1) / length, axis = 0)\n",
    "    \n",
    "    error = np.sum(np.sum(np.power(pred - (y * (ind == 1).T).T, 2) / n_oob, axis = 1) / length, axis = 0)\n",
    "    return bias, variance, error"
   ]
  },
  {
   "cell_type": "markdown",
   "metadata": {},
   "source": [
    "__2. (0 баллов)__\n",
    "\n",
    "Оцените смещение, разброс и ошибку для трех алгоритмов с гиперпараметрами по умолчанию: линейная регрессия, решающее дерево, случайный лес."
   ]
  },
  {
   "cell_type": "code",
   "execution_count": 9,
   "metadata": {
    "ExecuteTime": {
     "end_time": "2021-12-09T16:50:36.814243Z",
     "start_time": "2021-12-09T16:47:18.384496Z"
    },
    "scrolled": true
   },
   "outputs": [
    {
     "name": "stderr",
     "output_type": "stream",
     "text": [
      "100%|██████████████████████████████████████████████████████████████████████████████| 500/500 [00:00<00:00, 1022.98it/s]\n",
      "100%|███████████████████████████████████████████████████████████████████████████████| 500/500 [00:01<00:00, 304.81it/s]\n",
      "100%|████████████████████████████████████████████████████████████████████████████████| 500/500 [03:16<00:00,  2.55it/s]\n"
     ]
    }
   ],
   "source": [
    "from sklearn.linear_model import LinearRegression\n",
    "from sklearn.tree import DecisionTreeRegressor\n",
    "from sklearn.ensemble import RandomForestRegressor\n",
    "regressors = [LinearRegression(), DecisionTreeRegressor(), RandomForestRegressor()]\n",
    "bias, variance, error = np.empty(3), np.empty(3), np.empty(3)\n",
    "for i, regressor in enumerate(regressors):\n",
    "    bias[i], variance[i], error[i] = compute_biase_variance(regressor = regressor, X = X, y = y, num_runs=500)\n",
    "    i+=1"
   ]
  },
  {
   "cell_type": "code",
   "execution_count": 10,
   "metadata": {
    "ExecuteTime": {
     "end_time": "2021-12-09T16:50:36.846232Z",
     "start_time": "2021-12-09T16:50:36.815570Z"
    }
   },
   "outputs": [
    {
     "data": {
      "text/html": [
       "<div>\n",
       "<style scoped>\n",
       "    .dataframe tbody tr th:only-of-type {\n",
       "        vertical-align: middle;\n",
       "    }\n",
       "\n",
       "    .dataframe tbody tr th {\n",
       "        vertical-align: top;\n",
       "    }\n",
       "\n",
       "    .dataframe thead th {\n",
       "        text-align: right;\n",
       "    }\n",
       "</style>\n",
       "<table border=\"1\" class=\"dataframe\">\n",
       "  <thead>\n",
       "    <tr style=\"text-align: right;\">\n",
       "      <th></th>\n",
       "      <th>bias</th>\n",
       "      <th>variance</th>\n",
       "      <th>error</th>\n",
       "    </tr>\n",
       "  </thead>\n",
       "  <tbody>\n",
       "    <tr>\n",
       "      <th>lr</th>\n",
       "      <td>23.726312</td>\n",
       "      <td>0.928974</td>\n",
       "      <td>24.655286</td>\n",
       "    </tr>\n",
       "    <tr>\n",
       "      <th>tree</th>\n",
       "      <td>10.351395</td>\n",
       "      <td>12.761574</td>\n",
       "      <td>23.112969</td>\n",
       "    </tr>\n",
       "    <tr>\n",
       "      <th>rf</th>\n",
       "      <td>10.563805</td>\n",
       "      <td>2.178212</td>\n",
       "      <td>12.742018</td>\n",
       "    </tr>\n",
       "  </tbody>\n",
       "</table>\n",
       "</div>"
      ],
      "text/plain": [
       "           bias   variance      error\n",
       "lr    23.726312   0.928974  24.655286\n",
       "tree  10.351395  12.761574  23.112969\n",
       "rf    10.563805   2.178212  12.742018"
      ]
     },
     "execution_count": 10,
     "metadata": {},
     "output_type": "execute_result"
    }
   ],
   "source": [
    "res = pd.DataFrame(columns = ['bias', 'variance', 'error'], index = ['lr', 'tree', 'rf'])\n",
    "res['bias'] = bias\n",
    "res['variance'] = variance\n",
    "res['error'] = error\n",
    "res"
   ]
  },
  {
   "cell_type": "markdown",
   "metadata": {},
   "source": [
    "__3. (1 балл)__\n",
    "Проанализируйте полученный результат. Согласуются ли полученные результаты с теми, что мы обсуждали на занятиях (с комментарием)?\n",
    "\n",
    "__Your answer here:__\n",
    "Согласуются, полная ошибка действительно близка к сумме bias и variance. Шумом данных в данном случае можно пренебречь."
   ]
  },
  {
   "cell_type": "markdown",
   "metadata": {},
   "source": [
    "__4. (1 балл)__\n",
    "Постройте бэггинг над всеми тремя моделями (линейная регрессия, решающее дерево, случайный лес). Вспомните обсуждение с лекции о том, во сколько раз в теории бэггинг уменьшает разброс базового алгоритма. Выполняется ли это в ваших экспериментах? Если нет, поясните, почему."
   ]
  },
  {
   "cell_type": "code",
   "execution_count": 49,
   "metadata": {
    "ExecuteTime": {
     "end_time": "2021-12-09T18:59:13.587832Z",
     "start_time": "2021-12-09T18:59:07.636721Z"
    },
    "scrolled": false
   },
   "outputs": [
    {
     "name": "stderr",
     "output_type": "stream",
     "text": [
      "100%|██████████████████████████████████████████████████████████████████████████████████| 15/15 [00:00<00:00, 37.16it/s]\n",
      "100%|██████████████████████████████████████████████████████████████████████████████████| 30/30 [00:00<00:00, 40.22it/s]\n",
      "100%|██████████████████████████████████████████████████████████████████████████████████| 50/50 [00:01<00:00, 37.28it/s]\n",
      "100%|████████████████████████████████████████████████████████████████████████████████| 100/100 [00:03<00:00, 29.48it/s]\n"
     ]
    },
    {
     "data": {
      "text/html": [
       "<div>\n",
       "<style scoped>\n",
       "    .dataframe tbody tr th:only-of-type {\n",
       "        vertical-align: middle;\n",
       "    }\n",
       "\n",
       "    .dataframe tbody tr th {\n",
       "        vertical-align: top;\n",
       "    }\n",
       "\n",
       "    .dataframe thead th {\n",
       "        text-align: right;\n",
       "    }\n",
       "</style>\n",
       "<table border=\"1\" class=\"dataframe\">\n",
       "  <thead>\n",
       "    <tr style=\"text-align: right;\">\n",
       "      <th></th>\n",
       "      <th>bias</th>\n",
       "      <th>variance</th>\n",
       "      <th>error</th>\n",
       "    </tr>\n",
       "  </thead>\n",
       "  <tbody>\n",
       "    <tr>\n",
       "      <th>15</th>\n",
       "      <td>23.926851</td>\n",
       "      <td>0.840657</td>\n",
       "      <td>24.767508</td>\n",
       "    </tr>\n",
       "    <tr>\n",
       "      <th>30</th>\n",
       "      <td>23.925821</td>\n",
       "      <td>0.866155</td>\n",
       "      <td>24.791976</td>\n",
       "    </tr>\n",
       "    <tr>\n",
       "      <th>50</th>\n",
       "      <td>23.722605</td>\n",
       "      <td>1.071046</td>\n",
       "      <td>24.793651</td>\n",
       "    </tr>\n",
       "    <tr>\n",
       "      <th>100</th>\n",
       "      <td>23.692264</td>\n",
       "      <td>0.976953</td>\n",
       "      <td>24.669217</td>\n",
       "    </tr>\n",
       "  </tbody>\n",
       "</table>\n",
       "</div>"
      ],
      "text/plain": [
       "          bias  variance      error\n",
       "15   23.926851  0.840657  24.767508\n",
       "30   23.925821  0.866155  24.791976\n",
       "50   23.722605  1.071046  24.793651\n",
       "100  23.692264  0.976953  24.669217"
      ]
     },
     "execution_count": 49,
     "metadata": {},
     "output_type": "execute_result"
    }
   ],
   "source": [
    "from sklearn.ensemble import BaggingRegressor\n",
    "bias, variance, error = np.empty(4), np.empty(4), np.empty(4)\n",
    "n = [15, 30, 50, 100]\n",
    "for i, num_runs in enumerate(n):\n",
    "    bias[i], variance[i], error[i] = compute_biase_variance(\n",
    "        regressor = BaggingRegressor(LinearRegression()), X = X, y = y, num_runs=num_runs)\n",
    "lr = pd.DataFrame(columns = ['bias', 'variance', 'error'], index = n)\n",
    "lr['bias'] = bias\n",
    "lr['variance'] = variance\n",
    "lr['error'] = error\n",
    "lr"
   ]
  },
  {
   "cell_type": "code",
   "execution_count": 51,
   "metadata": {
    "ExecuteTime": {
     "end_time": "2021-12-09T18:59:42.728591Z",
     "start_time": "2021-12-09T18:59:34.368888Z"
    }
   },
   "outputs": [
    {
     "name": "stderr",
     "output_type": "stream",
     "text": [
      "100%|██████████████████████████████████████████████████████████████████████████████████| 15/15 [00:00<00:00, 26.98it/s]\n",
      "100%|██████████████████████████████████████████████████████████████████████████████████| 30/30 [00:01<00:00, 28.12it/s]\n",
      "100%|██████████████████████████████████████████████████████████████████████████████████| 50/50 [00:01<00:00, 26.73it/s]\n",
      "100%|████████████████████████████████████████████████████████████████████████████████| 100/100 [00:04<00:00, 20.77it/s]\n"
     ]
    },
    {
     "data": {
      "text/html": [
       "<div>\n",
       "<style scoped>\n",
       "    .dataframe tbody tr th:only-of-type {\n",
       "        vertical-align: middle;\n",
       "    }\n",
       "\n",
       "    .dataframe tbody tr th {\n",
       "        vertical-align: top;\n",
       "    }\n",
       "\n",
       "    .dataframe thead th {\n",
       "        text-align: right;\n",
       "    }\n",
       "</style>\n",
       "<table border=\"1\" class=\"dataframe\">\n",
       "  <thead>\n",
       "    <tr style=\"text-align: right;\">\n",
       "      <th></th>\n",
       "      <th>bias</th>\n",
       "      <th>variance</th>\n",
       "      <th>error</th>\n",
       "    </tr>\n",
       "  </thead>\n",
       "  <tbody>\n",
       "    <tr>\n",
       "      <th>15</th>\n",
       "      <td>11.383597</td>\n",
       "      <td>2.861514</td>\n",
       "      <td>14.245112</td>\n",
       "    </tr>\n",
       "    <tr>\n",
       "      <th>30</th>\n",
       "      <td>10.796327</td>\n",
       "      <td>3.079273</td>\n",
       "      <td>13.875600</td>\n",
       "    </tr>\n",
       "    <tr>\n",
       "      <th>50</th>\n",
       "      <td>10.513518</td>\n",
       "      <td>3.368229</td>\n",
       "      <td>13.881746</td>\n",
       "    </tr>\n",
       "    <tr>\n",
       "      <th>100</th>\n",
       "      <td>10.736897</td>\n",
       "      <td>3.421560</td>\n",
       "      <td>14.158457</td>\n",
       "    </tr>\n",
       "  </tbody>\n",
       "</table>\n",
       "</div>"
      ],
      "text/plain": [
       "          bias  variance      error\n",
       "15   11.383597  2.861514  14.245112\n",
       "30   10.796327  3.079273  13.875600\n",
       "50   10.513518  3.368229  13.881746\n",
       "100  10.736897  3.421560  14.158457"
      ]
     },
     "execution_count": 51,
     "metadata": {},
     "output_type": "execute_result"
    }
   ],
   "source": [
    "bias, variance, error = np.empty(4), np.empty(4), np.empty(4)\n",
    "for i, num_runs in enumerate(n):\n",
    "    bias[i], variance[i], error[i] = compute_biase_variance(\n",
    "        regressor = BaggingRegressor(DecisionTreeRegressor()), X = X, y = y, num_runs=num_runs)\n",
    "dt = pd.DataFrame(columns = ['bias', 'variance', 'error'], index = n)\n",
    "dt['bias'] = bias\n",
    "dt['variance'] = variance\n",
    "dt['error'] = error\n",
    "dt"
   ]
  },
  {
   "cell_type": "code",
   "execution_count": 52,
   "metadata": {
    "ExecuteTime": {
     "end_time": "2021-12-09T19:06:41.291928Z",
     "start_time": "2021-12-09T18:59:50.817395Z"
    }
   },
   "outputs": [
    {
     "name": "stderr",
     "output_type": "stream",
     "text": [
      "100%|██████████████████████████████████████████████████████████████████████████████████| 15/15 [00:27<00:00,  1.82s/it]\n",
      "100%|██████████████████████████████████████████████████████████████████████████████████| 30/30 [00:49<00:00,  1.66s/it]\n",
      "100%|██████████████████████████████████████████████████████████████████████████████████| 50/50 [01:24<00:00,  1.68s/it]\n",
      "100%|████████████████████████████████████████████████████████████████████████████████| 100/100 [04:09<00:00,  2.49s/it]\n"
     ]
    },
    {
     "data": {
      "text/html": [
       "<div>\n",
       "<style scoped>\n",
       "    .dataframe tbody tr th:only-of-type {\n",
       "        vertical-align: middle;\n",
       "    }\n",
       "\n",
       "    .dataframe tbody tr th {\n",
       "        vertical-align: top;\n",
       "    }\n",
       "\n",
       "    .dataframe thead th {\n",
       "        text-align: right;\n",
       "    }\n",
       "</style>\n",
       "<table border=\"1\" class=\"dataframe\">\n",
       "  <thead>\n",
       "    <tr style=\"text-align: right;\">\n",
       "      <th></th>\n",
       "      <th>bias</th>\n",
       "      <th>variance</th>\n",
       "      <th>error</th>\n",
       "    </tr>\n",
       "  </thead>\n",
       "  <tbody>\n",
       "    <tr>\n",
       "      <th>15</th>\n",
       "      <td>12.118197</td>\n",
       "      <td>0.963218</td>\n",
       "      <td>13.081416</td>\n",
       "    </tr>\n",
       "    <tr>\n",
       "      <th>30</th>\n",
       "      <td>12.120729</td>\n",
       "      <td>1.394844</td>\n",
       "      <td>13.515573</td>\n",
       "    </tr>\n",
       "    <tr>\n",
       "      <th>50</th>\n",
       "      <td>11.678973</td>\n",
       "      <td>1.304776</td>\n",
       "      <td>12.983749</td>\n",
       "    </tr>\n",
       "    <tr>\n",
       "      <th>100</th>\n",
       "      <td>12.075959</td>\n",
       "      <td>1.409929</td>\n",
       "      <td>13.485888</td>\n",
       "    </tr>\n",
       "  </tbody>\n",
       "</table>\n",
       "</div>"
      ],
      "text/plain": [
       "          bias  variance      error\n",
       "15   12.118197  0.963218  13.081416\n",
       "30   12.120729  1.394844  13.515573\n",
       "50   11.678973  1.304776  12.983749\n",
       "100  12.075959  1.409929  13.485888"
      ]
     },
     "execution_count": 52,
     "metadata": {},
     "output_type": "execute_result"
    }
   ],
   "source": [
    "bias, variance, error = np.empty(4), np.empty(4), np.empty(4)\n",
    "for i, num_runs in enumerate(n):\n",
    "    bias[i], variance[i], error[i] = compute_biase_variance(\n",
    "        regressor = BaggingRegressor(RandomForestRegressor(n_jobs=-1), n_jobs=-1), X = X, y = y, num_runs=num_runs)\n",
    "rf = pd.DataFrame(columns = ['bias', 'variance', 'error'], index = n)\n",
    "rf['bias'] = bias\n",
    "rf['variance'] = variance\n",
    "rf['error'] = error\n",
    "rf"
   ]
  },
  {
   "cell_type": "markdown",
   "metadata": {},
   "source": [
    "__Your answer here:__\n",
    "В теории бэггинг уменьшает ошибку композиции нескореллированных базовых алгоритмов как 1/N. В данном случае это не выполняется, так как, судя по всему, базовые алгоритмы недостаточно нескореллированные, либо сетка взята неподходящая. Однако применение бэггинга в сравнении с отсутствием композиции дает уменьшение variance. Особенно на алгоритмах, чувствительных к входным данным. Например, дерево выдавало ошибку variance $\\approx$ 12, а на бэггинге получилось уже порядка 3. Аналогично с RF, 3.2 против 1.3"
   ]
  },
  {
   "cell_type": "markdown",
   "metadata": {},
   "source": [
    "### Визуализация предсказаний базовых алгоритмов бэггинга\n",
    "\n",
    "В материалах лекций можно найти изображение, похожее на мишень - визуализация алгоритмов с разным смещением и разным разбросом. В центре \"мишени\" - правильный ответ, а \"попадания\" - предсказания алгоритмов, обученных по разным выборкам. Построим похожее изображение на наших данных для трех алгоритмов. Наши \"мишени\" будут одномерными, потому что мы решаем задачу одномерной регрессии.\n",
    "\n",
    "__5. (2 балла)__\n",
    "\n",
    "Реализуйте функцию plot_predictions. Она должна выполнять следующие действия:\n",
    "1. Случайно выбрать num_test_objects пар объект-целевая переменная из выборки X, y. Получится две выборки: маленькая X_test, y_test (выбранные тестовые объекты) и X_train, y_train (остальные объекты).\n",
    "1. Сгенерировать num_runs выборок методом бутстарапа из X_train, y_train. На каждой выборке обучить алгоритм regressor и сделать предсказания для X_test.\n",
    "1. Нарисовать scatter-график. По оси абсцисс - объекты тестовой выборки (номера от 0 до num_test_objects-1), по оси ординат - предсказания. В итоге получится num_test_objects столбиков с точками. Для каждого тестового объекта надо отметить одним цветом все предсказания для него, а также черным цветом отметить правильный ответ.\n",
    "1. Подпишите оси и название графика (аргумент title)."
   ]
  },
  {
   "cell_type": "code",
   "execution_count": 24,
   "metadata": {
    "ExecuteTime": {
     "end_time": "2021-12-09T18:13:05.152785Z",
     "start_time": "2021-12-09T18:13:05.145204Z"
    }
   },
   "outputs": [],
   "source": [
    "from sklearn.model_selection import train_test_split\n",
    "def plot_predictions(regressor, X, y, num_runs=100, num_test_objects=10, title=\"\"):\n",
    "    \"\"\"\n",
    "    plot graphics described above\n",
    "    \"\"\"\n",
    "    X_train, X_test, y_train, y_test = train_test_split(X, y, test_size=num_test_objects, random_state = 51261)\n",
    "    for i in range(num_runs):\n",
    "        ind_cur = np.random.choice(y_train.shape[0], y_train.shape[0])\n",
    "        regressor.fit(X_train[ind_cur], y_train[ind_cur])\n",
    "        y_test_pred = regressor.predict(X_test)\n",
    "        colors = [plt.cm.get_cmap('Set2', num_test_objects)(x)\n",
    "            for x in range(num_test_objects)]\n",
    "        plt.scatter(np.arange(num_test_objects), y_test_pred, c=colors)\n",
    "\n",
    "    plt.scatter(np.arange(num_test_objects), y_test, c='black')\n",
    "    plt.xlabel('x')\n",
    "    plt.ylabel('y')\n",
    "    plt.title(title)\n",
    "    plt.grid()\n",
    "    plt.show()"
   ]
  },
  {
   "cell_type": "markdown",
   "metadata": {},
   "source": [
    "__6. (0 баллов)__\n",
    "\n",
    "Нарисуйте графики для линейной регрессии, решающего дерева и случайного леса. Нарисуйте три графика в строчку (это можно сделать с помощью plt.subplot) с одинаковой осью ординат (это важно для понимания масштаба разброса у разных алгоритмов):"
   ]
  },
  {
   "cell_type": "code",
   "execution_count": 25,
   "metadata": {
    "ExecuteTime": {
     "end_time": "2021-12-09T18:13:37.727415Z",
     "start_time": "2021-12-09T18:13:06.629880Z"
    }
   },
   "outputs": [
    {
     "data": {
      "image/png": "[encoded data removed]",
      "text/plain": [
       "<Figure size 432x288 with 1 Axes>"
      ]
     },
     "metadata": {
      "needs_background": "light"
     },
     "output_type": "display_data"
    },
    {
     "data": {
      "image/png": "[encoded data removed]",
      "text/plain": [
       "<Figure size 432x288 with 1 Axes>"
      ]
     },
     "metadata": {
      "needs_background": "light"
     },
     "output_type": "display_data"
    },
    {
     "data": {
      "image/png": "[encoded data removed]",
      "text/plain": [
       "<Figure size 432x288 with 1 Axes>"
      ]
     },
     "metadata": {
      "needs_background": "light"
     },
     "output_type": "display_data"
    }
   ],
   "source": [
    "plot_predictions(LinearRegression(), X, y, num_runs=100, title='LinearRegression')\n",
    "plot_predictions(DecisionTreeRegressor(), X, y, num_runs=100, title='DecisionTree')\n",
    "plot_predictions(RandomForestRegressor(n_jobs=-1), X, y, num_runs=100, title='RandomForest')"
   ]
  },
  {
   "cell_type": "markdown",
   "metadata": {},
   "source": [
    "__7. (1 балл)__\n",
    "\n",
    "Для каждого графика прокомментируйте, как он характеризует смещение и разброс соответствующего алгоритма. \n",
    "\n",
    "__Your answer here:__ На данных графиках смещение и разброс примерно характеризуются матожиданием и дисперсией ответов на тесте для каждого объекта на каждой модели. У линейной регрессии довольно большое смещение, алгоритм слишком слабый для предсказания таких данных и часто (причем именно систематически, то есть по мат ожиданию) ошибается в прогнозах. В то же время, дерево довольно неплохо попадает по смещению (то есть матожидание близко к реальному ответу), но разброс(дисперсия ответов на разных реализациях дерева) гораздо выше чем у линейной модели, что означает, что дерево очень неустойчиво. Как говорил оксимирон \"So any ladies looking for fellas who into personal growth. Don't look for battlers, go get yourself a man that can do both\". Вот RandomForest $-$ это алгоритм, который can do both. Он хорош и по смещению, и по разбосу."
   ]
  },
  {
   "cell_type": "markdown",
   "metadata": {},
   "source": [
    "### Изменение bias и variance при изменении гиперпараметров"
   ]
  },
  {
   "cell_type": "markdown",
   "metadata": {},
   "source": [
    "__8. (0 баллов)__\n",
    "\n",
    "Постройте графики зависимости смещения и разброса от гиперпараметров решающего дерева max_depth (от 1 до 10) и max_features (от 1 до X.shape[1]):"
   ]
  },
  {
   "cell_type": "code",
   "execution_count": 43,
   "metadata": {
    "ExecuteTime": {
     "end_time": "2021-12-09T18:38:51.339051Z",
     "start_time": "2021-12-09T18:38:47.834505Z"
    }
   },
   "outputs": [
    {
     "name": "stderr",
     "output_type": "stream",
     "text": [
      "100%|██████████████████████████████████████████████████████████████████████████████| 150/150 [00:00<00:00, 1122.29it/s]\n",
      "100%|███████████████████████████████████████████████████████████████████████████████| 150/150 [00:00<00:00, 823.09it/s]\n",
      "100%|███████████████████████████████████████████████████████████████████████████████| 150/150 [00:00<00:00, 731.24it/s]\n",
      "100%|███████████████████████████████████████████████████████████████████████████████| 150/150 [00:00<00:00, 605.11it/s]\n",
      "100%|███████████████████████████████████████████████████████████████████████████████| 150/150 [00:00<00:00, 511.58it/s]\n",
      "100%|███████████████████████████████████████████████████████████████████████████████| 150/150 [00:00<00:00, 434.12it/s]\n",
      "100%|███████████████████████████████████████████████████████████████████████████████| 150/150 [00:00<00:00, 363.03it/s]\n",
      "100%|███████████████████████████████████████████████████████████████████████████████| 150/150 [00:00<00:00, 369.42it/s]\n",
      "100%|███████████████████████████████████████████████████████████████████████████████| 150/150 [00:00<00:00, 305.05it/s]\n",
      "100%|███████████████████████████████████████████████████████████████████████████████| 150/150 [00:00<00:00, 307.80it/s]\n"
     ]
    },
    {
     "data": {
      "image/png": "[encoded data removed]",
      "text/plain": [
       "<Figure size 864x504 with 1 Axes>"
      ]
     },
     "metadata": {
      "needs_background": "light"
     },
     "output_type": "display_data"
    }
   ],
   "source": [
    "biases = []\n",
    "variances = []\n",
    "for i in np.arange(1, 11):\n",
    "    bias, variance, error = compute_biase_variance(\n",
    "            DecisionTreeRegressor(max_depth=i), X, y, num_runs=150\n",
    "        )\n",
    "    biases.append(bias)\n",
    "    variances.append(variance)\n",
    "plt.figure(figsize=(12, 7))\n",
    "plt.plot(np.arange(1, 11), biases, label='bias')\n",
    "plt.plot(np.arange(1, 11), variances, label='variance')\n",
    "plt.xlabel('max depth')\n",
    "plt.ylabel('loss')\n",
    "plt.legend()\n",
    "plt.grid()\n",
    "plt.show()"
   ]
  },
  {
   "cell_type": "code",
   "execution_count": 44,
   "metadata": {
    "ExecuteTime": {
     "end_time": "2021-12-09T18:38:59.087712Z",
     "start_time": "2021-12-09T18:38:51.341192Z"
    }
   },
   "outputs": [
    {
     "name": "stderr",
     "output_type": "stream",
     "text": [
      "100%|███████████████████████████████████████████████████████████████████████████████| 150/150 [00:00<00:00, 679.91it/s]\n",
      "100%|███████████████████████████████████████████████████████████████████████████████| 150/150 [00:00<00:00, 771.28it/s]\n",
      "100%|███████████████████████████████████████████████████████████████████████████████| 150/150 [00:00<00:00, 572.06it/s]\n",
      "100%|███████████████████████████████████████████████████████████████████████████████| 150/150 [00:00<00:00, 260.82it/s]\n",
      "100%|███████████████████████████████████████████████████████████████████████████████| 150/150 [00:00<00:00, 235.97it/s]\n",
      "100%|███████████████████████████████████████████████████████████████████████████████| 150/150 [00:00<00:00, 217.44it/s]\n",
      "100%|███████████████████████████████████████████████████████████████████████████████| 150/150 [00:00<00:00, 196.03it/s]\n",
      "100%|███████████████████████████████████████████████████████████████████████████████| 150/150 [00:00<00:00, 179.50it/s]\n",
      "100%|███████████████████████████████████████████████████████████████████████████████| 150/150 [00:00<00:00, 171.24it/s]\n",
      "100%|███████████████████████████████████████████████████████████████████████████████| 150/150 [00:00<00:00, 162.60it/s]\n",
      "100%|███████████████████████████████████████████████████████████████████████████████| 150/150 [00:00<00:00, 183.25it/s]\n",
      "100%|███████████████████████████████████████████████████████████████████████████████| 150/150 [00:00<00:00, 258.21it/s]\n"
     ]
    },
    {
     "data": {
      "image/png": "[encoded data removed]",
      "text/plain": [
       "<Figure size 864x504 with 1 Axes>"
      ]
     },
     "metadata": {
      "needs_background": "light"
     },
     "output_type": "display_data"
    }
   ],
   "source": [
    "biases = []\n",
    "variances = []\n",
    "for i in np.arange(1, X.shape[1]):\n",
    "    bias, variance, error = compute_biase_variance(DecisionTreeRegressor(max_features=i), X, y, num_runs=150)\n",
    "    biases.append(bias)\n",
    "    variances.append(variance)\n",
    "plt.figure(figsize=(12, 7))\n",
    "plt.plot(np.arange(1, X.shape[1]), biases, label='bias')\n",
    "plt.plot(np.arange(1, X.shape[1]), variances, label='variance')\n",
    "plt.xlabel('max features')\n",
    "plt.ylabel('loss')\n",
    "plt.legend()\n",
    "plt.grid()\n",
    "plt.show()"
   ]
  },
  {
   "cell_type": "markdown",
   "metadata": {},
   "source": [
    "__9. (0 баллов)__\n",
    "\n",
    "Постройте графики зависимости смещения и разброса от n_estimators (по сетке 2**np.arange(1, 10)) для случайного леса и градиентного бустинга:"
   ]
  },
  {
   "cell_type": "code",
   "execution_count": 47,
   "metadata": {
    "ExecuteTime": {
     "end_time": "2021-12-09T18:55:35.330875Z",
     "start_time": "2021-12-09T18:48:16.148473Z"
    },
    "scrolled": false
   },
   "outputs": [
    {
     "name": "stderr",
     "output_type": "stream",
     "text": [
      "100%|████████████████████████████████████████████████████████████████████████████████| 150/150 [00:02<00:00, 69.16it/s]\n",
      "100%|████████████████████████████████████████████████████████████████████████████████| 150/150 [00:02<00:00, 55.66it/s]\n",
      "100%|████████████████████████████████████████████████████████████████████████████████| 150/150 [00:04<00:00, 36.62it/s]\n",
      "100%|████████████████████████████████████████████████████████████████████████████████| 150/150 [00:09<00:00, 15.74it/s]\n",
      "100%|████████████████████████████████████████████████████████████████████████████████| 150/150 [00:15<00:00,  9.59it/s]\n",
      "100%|████████████████████████████████████████████████████████████████████████████████| 150/150 [00:27<00:00,  5.50it/s]\n",
      "100%|████████████████████████████████████████████████████████████████████████████████| 150/150 [00:55<00:00,  2.71it/s]\n",
      "100%|████████████████████████████████████████████████████████████████████████████████| 150/150 [01:42<00:00,  1.46it/s]\n",
      "100%|████████████████████████████████████████████████████████████████████████████████| 150/150 [03:39<00:00,  1.46s/it]\n"
     ]
    },
    {
     "data": {
      "image/png": "[encoded data removed]",
      "text/plain": [
       "<Figure size 864x504 with 1 Axes>"
      ]
     },
     "metadata": {
      "needs_background": "light"
     },
     "output_type": "display_data"
    }
   ],
   "source": [
    "biases = []\n",
    "variances = []\n",
    "n_estimators = 2 ** np.arange(1, 10)\n",
    "for n in n_estimators:\n",
    "    bias, variance, error = compute_biase_variance(RandomForestRegressor(n_estimators=n, n_jobs=-1), X, y, num_runs=150)\n",
    "    biases.append(bias)\n",
    "    variances.append(variance)\n",
    "plt.figure(figsize=(12, 7))\n",
    "plt.plot(n_estimators, biases, label='bias')\n",
    "plt.plot(n_estimators, variances, label='variance')\n",
    "plt.xlabel('n_estimators')\n",
    "plt.ylabel('loss')\n",
    "plt.legend()\n",
    "plt.grid()\n",
    "plt.show()"
   ]
  },
  {
   "cell_type": "code",
   "execution_count": 46,
   "metadata": {
    "ExecuteTime": {
     "end_time": "2021-12-09T18:42:54.373444Z",
     "start_time": "2021-12-09T18:39:15.767048Z"
    }
   },
   "outputs": [
    {
     "name": "stderr",
     "output_type": "stream",
     "text": [
      "100%|███████████████████████████████████████████████████████████████████████████████| 150/150 [00:00<00:00, 325.86it/s]\n",
      "100%|███████████████████████████████████████████████████████████████████████████████| 150/150 [00:00<00:00, 190.19it/s]\n",
      "100%|███████████████████████████████████████████████████████████████████████████████| 150/150 [00:01<00:00, 102.84it/s]\n",
      "100%|████████████████████████████████████████████████████████████████████████████████| 150/150 [00:03<00:00, 44.03it/s]\n",
      "100%|████████████████████████████████████████████████████████████████████████████████| 150/150 [00:07<00:00, 20.80it/s]\n",
      "100%|████████████████████████████████████████████████████████████████████████████████| 150/150 [00:14<00:00, 10.18it/s]\n",
      "100%|████████████████████████████████████████████████████████████████████████████████| 150/150 [00:26<00:00,  5.70it/s]\n",
      "100%|████████████████████████████████████████████████████████████████████████████████| 150/150 [00:54<00:00,  2.76it/s]\n",
      "100%|████████████████████████████████████████████████████████████████████████████████| 150/150 [01:49<00:00,  1.37it/s]\n"
     ]
    },
    {
     "data": {
      "image/png": "[encoded data removed]",
      "text/plain": [
       "<Figure size 864x504 with 1 Axes>"
      ]
     },
     "metadata": {
      "needs_background": "light"
     },
     "output_type": "display_data"
    }
   ],
   "source": [
    "from sklearn.ensemble import GradientBoostingRegressor\n",
    "biases = []\n",
    "variances = []\n",
    "for n in n_estimators:\n",
    "    bias, variance, error = compute_biase_variance(GradientBoostingRegressor(n_estimators=n), X, y, num_runs=150)\n",
    "    biases.append(bias)\n",
    "    variances.append(variance)\n",
    "plt.figure(figsize=(12, 7))\n",
    "plt.plot(n_estimators, biases, label='bias')\n",
    "plt.plot(n_estimators, variances, label='variance')\n",
    "plt.xlabel('n_estimators')\n",
    "plt.ylabel('loss')\n",
    "plt.legend()\n",
    "plt.grid()\n",
    "plt.show()"
   ]
  },
  {
   "cell_type": "markdown",
   "metadata": {},
   "source": [
    "__10. (2 балла)__\n",
    "\n",
    "Прокомментируйте графики (всего 4 графика): почему они имеют такой вид.\n",
    "\n",
    "__Your answer here:__ \n",
    "\n",
    "На первом графике bias падает с увеличением глубины, так как дерево бОльшей глубины имеет бОльшую сложность и, соответственно, меньше смещение. variance же растет, так как деревья бОльшей глубины больше склонны к переобучению\n",
    "\n",
    "На втором графике и variance падает, а bias после небольшого падения, остается примерно постоянным. Я полагаю, что минимума на графике не присутствует, так как сетка для такого графика взята слишком маленькая, да и в целом до 10 max_features деревья становятся более устойчивыми к изменениям.\n",
    "\n",
    "На третьем графике bias не меняется, что соответсвует теории, а variance падает вначале как 1/N, а затем выходит на плато, так как алгоритмы, судя по всему, становятся слишком скорелированными\n",
    "\n",
    "На четвертом графике variance и bias в какой-то момент выходят на постоянное значение, т.к. бустинг имеет свойство затухать на больших N (следующие итерации не дают существенного вклада и композиция сходится)"
   ]
  },
  {
   "cell_type": "markdown",
   "metadata": {
    "pycharm": {
     "name": "#%% md\n"
    }
   },
   "source": [
    "Вставьте картинку, описывающую ваш опыт выполнения этого ДЗ."
   ]
  }
 ],
 "metadata": {
  "kernelspec": {
   "display_name": "Python 3 (ipykernel)",
   "language": "python",
   "name": "python3"
  },
  "language_info": {
   "codemirror_mode": {
    "name": "ipython",
    "version": 3
   },
   "file_extension": ".py",
   "mimetype": "text/x-python",
   "name": "python",
   "nbconvert_exporter": "python",
   "pygments_lexer": "ipython3",
   "version": "3.8.10"
  },
  "toc": {
   "base_numbering": 1,
   "nav_menu": {},
   "number_sections": true,
   "sideBar": true,
   "skip_h1_title": true,
   "title_cell": "Table of Contents",
   "title_sidebar": "Contents",
   "toc_cell": false,
   "toc_position": {},
   "toc_section_display": true,
   "toc_window_display": false
  },
  "varInspector": {
   "cols": {
    "lenName": 16,
    "lenType": 16,
    "lenVar": 40
   },
   "kernels_config": {
    "python": {
     "delete_cmd_postfix": "",
     "delete_cmd_prefix": "del ",
     "library": "var_list.py",
     "varRefreshCmd": "print(var_dic_list())"
    },
    "r": {
     "delete_cmd_postfix": ") ",
     "delete_cmd_prefix": "rm(",
     "library": "var_list.r",
     "varRefreshCmd": "cat(var_dic_list()) "
    }
   },
   "types_to_exclude": [
    "module",
    "function",
    "builtin_function_or_method",
    "instance",
    "_Feature"
   ],
   "window_display": false
  }
 },
 "nbformat": 4,
 "nbformat_minor": 2
}
